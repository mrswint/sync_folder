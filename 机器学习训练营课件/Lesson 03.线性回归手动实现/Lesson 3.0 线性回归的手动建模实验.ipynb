{
 "cells": [
  {
   "cell_type": "markdown",
   "metadata": {},
   "source": [
    "# Lesson 3.线性回归的手动建模实验"
   ]
  },
  {
   "cell_type": "markdown",
   "metadata": {},
   "source": [
    "&emsp;&emsp;在此前的两节课程中，我们已经介绍了关于线性回归模型的基本概念，并且介绍了一个多元线性回归的损失函数求解方法——最小二乘法。在有了这一些列理论推导之后，本节我们将结合Lesson 1中所介绍的机器学习一般建模流程，并首先尝试在一个手动构建的数据集上进行完整的线性回归模型建模。"
   ]
  },
  {
   "cell_type": "markdown",
   "metadata": {},
   "source": [
    "&emsp;&emsp;不过，在进行线性回归的手动建模实验过程中，一如既往我们需要补充很多关于机器学习的基础理论以及一些常用技巧，同时，我们也需要搭建一个更加完善的建模实验环境，因此本节内容总共分为四个小节，分别是："
   ]
  },
  {
   "cell_type": "markdown",
   "metadata": {},
   "source": [
    "### Lesson 3.1 变量相关性基础理论"
   ]
  },
  {
   "cell_type": "markdown",
   "metadata": {},
   "source": [
    "- 相关系数基本概念；\n",
    "- 相关系数计算公式及实现方法；\n",
    "- 相关系数解读；\n",
    "- 利用相关性，构建具备一定规律数据集；"
   ]
  },
  {
   "cell_type": "markdown",
   "metadata": {},
   "source": [
    "### Lesson 3.2 数据生成器与Python模块编写"
   ]
  },
  {
   "cell_type": "markdown",
   "metadata": {},
   "source": [
    "- 手动生成规律可控的实验数据；\n",
    "- 创建回归类数据集生成器；\n",
    "- 随机数种子的基本使用方法；\n",
    "- Python模块编写方法；"
   ]
  },
  {
   "cell_type": "markdown",
   "metadata": {},
   "source": [
    "### Lesson 3.3 线性回归的手动实现与模型局限"
   ]
  },
  {
   "cell_type": "markdown",
   "metadata": {},
   "source": [
    "- 根据机器学习建模流程构建线性回归；\n",
    "- 线性回归模型局限与解决思路；"
   ]
  },
  {
   "cell_type": "markdown",
   "metadata": {},
   "source": [
    "### Lesson 3.4 机器学习模型结果可信度理论与交叉验证基础"
   ]
  },
  {
   "cell_type": "markdown",
   "metadata": {},
   "source": [
    "- 结果可信度基本理论；\n",
    "- 数据集划分方法；\n",
    "- 测试集悖论；\n",
    "- 交叉验证基本概念；"
   ]
  }
 ],
 "metadata": {
  "kernelspec": {
   "display_name": "Python 3",
   "language": "python",
   "name": "python3"
  },
  "language_info": {
   "codemirror_mode": {
    "name": "ipython",
    "version": 3
   },
   "file_extension": ".py",
   "mimetype": "text/x-python",
   "name": "python",
   "nbconvert_exporter": "python",
   "pygments_lexer": "ipython3",
   "version": "3.8.5"
  }
 },
 "nbformat": 4,
 "nbformat_minor": 4
}
