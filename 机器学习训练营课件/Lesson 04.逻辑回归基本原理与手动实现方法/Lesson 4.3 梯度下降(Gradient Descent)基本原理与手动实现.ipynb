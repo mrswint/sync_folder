{
 "cells": [
  {
   "cell_type": "markdown",
   "metadata": {},
   "source": [
    "# Lesson 4.3 梯度下降(Gradient Descent)基本原理与手动实现"
   ]
  },
  {
   "cell_type": "markdown",
   "metadata": {},
   "source": [
    "&emsp;&emsp;在上一小节中，我们已经成功的构建了逻辑回归的损失函数，但由于逻辑回归模型本身的特殊性，我们在构造损失函数时无法采用类似SSE的计算思路（此时损失函数不是凸函数），因此最终的损失函数也无法用最小二乘法进行直接求解。当然，这其实也不仅仅是逻辑回归模型的“问题”，对于大多数机器学习模型来说，损失函数都无法直接利用最小二乘法进行求解。此时，就需要我们掌握一些可以针对更为一般函数形式进行最小值求解的优化方法。而在机器学习领域，最为基础、同时也最为通用的方法就是梯度下降算法。"
   ]
  },
  {
   "cell_type": "markdown",
   "metadata": {},
   "source": [
    "&emsp;&emsp;本节我们将详细讨论梯度下降算法的基本原理和实现方法，并在此基础上尝试对逻辑回归损失函数进行求解。"
   ]
  },
  {
   "cell_type": "code",
   "execution_count": 1,
   "metadata": {},
   "outputs": [],
   "source": [
    "# 科学计算模块\n",
    "import numpy as np\n",
    "import pandas as pd\n",
    "\n",
    "# 绘图模块\n",
    "import matplotlib as mpl\n",
    "import matplotlib.pyplot as plt\n",
    "\n",
    "# 自定义模块\n",
    "from ML_basic_function import *"
   ]
  },
  {
   "cell_type": "markdown",
   "metadata": {},
   "source": [
    "## 一、梯度下降基本原理与学习率"
   ]
  },
  {
   "cell_type": "markdown",
   "metadata": {},
   "source": [
    "### 1.数据背景与最小二乘法求解"
   ]
  },
  {
   "cell_type": "markdown",
   "metadata": {},
   "source": [
    "&emsp;&emsp;和此前介绍的极大似然估计法类似，梯度下降算法本身也属于数学理论推导相对复杂，但实际应用过程并不难理解的一种方法。因此，我们将先从一个简单的例子入手，通过和最小二乘法计算过程对比，来查看梯度下降的一般过程，然后我们再进行更加严谨的理论推导。"
   ]
  },
  {
   "cell_type": "markdown",
   "metadata": {},
   "source": [
    "例如，有简单数据集表示如下："
   ]
  },
  {
   "cell_type": "markdown",
   "metadata": {},
   "source": [
    "|x|y|\n",
    "| :------: | :------: |\n",
    "| 1 | 2 |\n",
    "| 2 | 4 |\n",
    "| 3 | 6 |"
   ]
  },
  {
   "cell_type": "markdown",
   "metadata": {},
   "source": [
    "其中$x$是数据集特征，$y$是数据集标签，假设，我们使用简单线性回归$y = wx$对该组数据进行拟合，则此处我们可以构造损失函数如下："
   ]
  },
  {
   "cell_type": "markdown",
   "metadata": {},
   "source": [
    "$$ \\begin{align} SSELoss(w)\n",
    "& = (2-1*w)^2 + (4-2*w)^2 + (6-3*w)^2 \\\\\n",
    "& = w^2-4w+4+4w^2-16w+16+9w^2-36w+36 \\\\\n",
    "& = 14w^2-56w+56 \\\\\n",
    "& = 14(w^2-4w+4)  \\\\\n",
    "& = 14(w-2)^2\n",
    "\\end{align} $$"
   ]
  },
  {
   "cell_type": "markdown",
   "metadata": {},
   "source": [
    "此时，损失函数$SSELoss(w)$就是一个关于w的一元函数。围绕该损失函数进行最小值求解，可考虑使用最小二乘法进行计算，即令$SSELoss(w)$导函数取值为0，此时有："
   ]
  },
  {
   "cell_type": "markdown",
   "metadata": {},
   "source": [
    "<center>$ \\begin{align} \n",
    "\\frac{\\partial{SSELoss{(w)}}}{\\partial{(w)}}  \n",
    "& = 28(w-2) \\\\\n",
    "& = 0  \\end{align} $</center>"
   ]
  },
  {
   "cell_type": "markdown",
   "metadata": {},
   "source": [
    "因此，$w$的最优解为：$$w=2$$"
   ]
  },
  {
   "cell_type": "markdown",
   "metadata": {},
   "source": [
    "当然，我们也可以通过绘制一个图像来观察损失函数的基本情况："
   ]
  },
  {
   "cell_type": "code",
   "execution_count": 5,
   "metadata": {},
   "outputs": [
    {
     "data": {
      "text/plain": [
       "[<matplotlib.lines.Line2D at 0x172644412c8>]"
      ]
     },
     "execution_count": 5,
     "metadata": {},
     "output_type": "execute_result"
    },
    {
     "data": {
      "image/png": "[encoded data removed]",
      "text/plain": [
       "<Figure size 432x288 with 1 Axes>"
      ]
     },
     "metadata": {
      "needs_background": "light"
     },
     "output_type": "display_data"
    }
   ],
   "source": [
    "x = np.linspace(-1, 5, 40)\n",
    "SSELoss = 14 * np.power(x - 2, 2)\n",
    "plt.plot(x, SSELoss)"
   ]
  },
  {
   "cell_type": "markdown",
   "metadata": {},
   "source": [
    "### 2.一维梯度下降基本流程"
   ]
  },
  {
   "cell_type": "markdown",
   "metadata": {},
   "source": [
    "&emsp;&emsp;当然，围绕上述形式非常简单的损失函数，我们也可以尝试使用梯度下降算法进行求解。首先梯度下降算法的目标仍然是求最小值，但和最小二乘法这种一步到位、通过解方程组直接求得最小值的方式不同，梯度下降是通过一种“迭代求解”的方式来进行最小值的求解，其整体求解过程可以粗略描述为，**先随机选取一组参数初始值，然后沿着某个方向，一步一步移动到最小值点**。例如："
   ]
  },
  {
   "cell_type": "code",
   "execution_count": 9,
   "metadata": {},
   "outputs": [
    {
     "data": {
      "text/plain": [
       "[<matplotlib.lines.Line2D at 0x2248ae46e88>]"
      ]
     },
     "execution_count": 9,
     "metadata": {},
     "output_type": "execute_result"
    },
    {
     "data": {
      "image/png": "[encoded data removed]",
      "text/plain": [
       "<Figure size 432x288 with 1 Axes>"
      ]
     },
     "metadata": {
      "needs_background": "light"
     },
     "output_type": "display_data"
    }
   ],
   "source": [
    "show_trace(gd(lr = 0.01))\n",
    "plt.plot(2, 0, 'ro')"
   ]
  },
  {
   "cell_type": "markdown",
   "metadata": {},
   "source": [
    "> 该图像的绘制函数会在稍后的内容中进行讲解"
   ]
  },
  {
   "cell_type": "markdown",
   "metadata": {},
   "source": [
    "#### 2.1 参数移动第一步"
   ]
  },
  {
   "cell_type": "markdown",
   "metadata": {},
   "source": [
    "对照上述例子，我们可以将参数的第一次移动过程拆分为以下三步："
   ]
  },
  {
   "cell_type": "markdown",
   "metadata": {},
   "source": [
    "- Step 1.随机选取初始参数值"
   ]
  },
  {
   "cell_type": "markdown",
   "metadata": {},
   "source": [
    "&emsp;&emsp;在上述例子中，参数只有一个，我们可以随机设置一个初始的参数值，例如我们令$w_0=10$。"
   ]
  },
  {
   "cell_type": "markdown",
   "metadata": {},
   "source": [
    "- Step 2.基于$w_0$，确定参数移动方向"
   ]
  },
  {
   "cell_type": "markdown",
   "metadata": {},
   "source": [
    "&emsp;&emsp;在上述例子中，由于参数组只有一个参数$w$，因此参数的变化只有两个方向，$w$增加的方向和$w$减少的方向。在梯度下降中，参数移动的目标是让损失函数取值减少，因此在上例中，由于$w$初始取值为10，所以应该沿着$w$减少的方向移动。"
   ]
  },
  {
   "cell_type": "markdown",
   "metadata": {},
   "source": [
    "> 注意，如果损失函数包含多个参数的话，参数组变化方向就有多个，例如假设参数组包含两个参数$w=(a,b)$，则$w$的变化就相当于是在$(a, b)$这个二维平面上的点发生移动。"
   ]
  },
  {
   "cell_type": "markdown",
   "metadata": {},
   "source": [
    "**梯度的基本概念**"
   ]
  },
  {
   "cell_type": "markdown",
   "metadata": {},
   "source": [
    "&emsp;&emsp;当然，在实际计算过程中我们肯定无法通过观察来确定参数移动的方向，为确定更为一般情况下参数的移动方向，我们需要回顾Lesson 2中所介绍的关于梯度向量的相关概念。Lesson 2中我们曾提及，设$f(x)$是一个关于$x$的函数，其中$x$是向量变元，并且$$x = [x_1, x_2,...,x_n]^T$$"
   ]
  },
  {
   "cell_type": "markdown",
   "metadata": {},
   "source": [
    "则$$\\frac{\\partial f}{\\partial x} = [\\frac{\\partial f}{\\partial x_1}, \n",
    "\\frac{\\partial f}{\\partial x_2}, ...,\n",
    "\\frac{\\partial f}{\\partial x_n}]^T$$"
   ]
  },
  {
   "cell_type": "markdown",
   "metadata": {},
   "source": [
    "而该表达式也被称为向量求导的梯度向量形式。"
   ]
  },
  {
   "cell_type": "markdown",
   "metadata": {},
   "source": [
    "$$\\nabla _xf(x) = \\frac{\\partial f}{\\partial x} = [\\frac{\\partial f}{\\partial x_1}, \n",
    "\\frac{\\partial f}{\\partial x_2}, ...,\n",
    "\\frac{\\partial f}{\\partial x_n}]^T$$"
   ]
  },
  {
   "cell_type": "markdown",
   "metadata": {},
   "source": [
    "进一步的，如果假设$f(x)$是关于参数$x$的损失函数，则$\\nabla _xf(x)$就是损失函数的梯度向量，或者梯度表达式。而当损失函数的参数$x$选定一组取值之后，我们就能计算梯度表达式的取值，该值也被称为损失函数在某组参数取值下的梯度。"
   ]
  },
  {
   "cell_type": "markdown",
   "metadata": {},
   "source": [
    "&emsp;&emsp;例如，在上例中，损失函数$$f(w) = 14(w-2)^2$$"
   ]
  },
  {
   "cell_type": "markdown",
   "metadata": {},
   "source": [
    "损失函数的梯度向量表示形式为：$$\\nabla _wf(w) = \\frac{\\partial f}{\\partial w}=28(w-2)$$"
   ]
  },
  {
   "cell_type": "markdown",
   "metadata": {},
   "source": [
    "具体来看，当$w_0=10$时，梯度计算结果为$$\\nabla _wf(w_0)=28(10-2)=28*8=224$$"
   ]
  },
  {
   "cell_type": "markdown",
   "metadata": {},
   "source": [
    "在确定了梯度之后，接下来参数的移动方向也随之确定，在梯度下降算法中，参数的移动方向是梯度的负方向。"
   ]
  },
  {
   "cell_type": "markdown",
   "metadata": {},
   "source": [
    "&emsp;&emsp;注意，这里有两点需要注意，其一是梯度的负方向，上述计算结果中，224既是梯度的取值，同时也代表着梯度的方向——正方向。而此时梯度的负方向则是取值减少的方向，和损失函数图像观测结果相同。其二是参数的移动是朝着梯度的负方向移动，也就是朝着数值减少的方向移动，而不是直接在原参数10的基础上减去224，这很明显是不合适的。"
   ]
  },
  {
   "cell_type": "markdown",
   "metadata": {},
   "source": [
    "> 对于只包含一个变量的损失函数来说，梯度也就是函数某点的导数。"
   ]
  },
  {
   "cell_type": "markdown",
   "metadata": {},
   "source": [
    "- Step 3.确定移动步长并进行移动"
   ]
  },
  {
   "cell_type": "markdown",
   "metadata": {},
   "source": [
    "&emsp;&emsp;在确定移动的方向之后，接下来需要进一步确定移动距离。在梯度下降中，我们采用梯度乘以某个人工设置的参数作为每一步移动的距离，这个参数被称为步长或者学习率（Learning rate），例如在上述案例中，我们可以设置学习率为lr = 0.01，则从$w_0$进行移动的距离是$0.01 * 224 = 2.24$，而又是朝向梯度的负方向进行移动，因此$w_0$最终移动到了$w_1 = 10-2.24 = 7.76$"
   ]
  },
  {
   "cell_type": "markdown",
   "metadata": {},
   "source": [
    "> 相比于步长，将人工设置的参数称为学习率会更加贴切，该参数并不代表真实移动的距离，而是影响真实移动距离的一个“比率”，或者说是真实移动距离学习梯度值的“比率”。"
   ]
  },
  {
   "cell_type": "markdown",
   "metadata": {},
   "source": [
    "至此，参数$w$就完成了第一次移动，$w_0 \\rightarrow w_1$。"
   ]
  },
  {
   "cell_type": "markdown",
   "metadata": {},
   "source": [
    "#### 2.2 梯度下降的多轮迭代"
   ]
  },
  {
   "cell_type": "markdown",
   "metadata": {},
   "source": [
    "&emsp;&emsp;当然，$w$从$w_0$移动到$w_1$其实只移动了一步，要最终抵达损失函数的最小值点$w=2$，还有很长一段距离，因此我们还需要移动多次。参数多次移动过程中的每一步其实都是在重复上述三个步骤。例如，当我们需要第二次移动$w$时，过程如下："
   ]
  },
  {
   "cell_type": "markdown",
   "metadata": {},
   "source": [
    "$$w_2 = w_1 - lr \\cdot \\nabla _wf(w_1)$$"
   ]
  },
  {
   "cell_type": "markdown",
   "metadata": {},
   "source": [
    "即$w_2$等于$w_1$沿着$w_1$的负梯度方向移动了$lr\\cdot\\nabla _wf(w_1)$距离之后得到的结果。此时我们是在$w_1$的基础上，减去学习率和$w_1$梯度的乘积。"
   ]
  },
  {
   "cell_type": "markdown",
   "metadata": {},
   "source": [
    "&emsp;&emsp;当然，依此类推，当从$w_{(n-1)}$移动到$w_n$时$w_n$的计算公式如下："
   ]
  },
  {
   "cell_type": "markdown",
   "metadata": {},
   "source": [
    "$$w_n = w_{(n-1)} - lr \\cdot \\nabla _wf(w_{(n-1)})$$"
   ]
  },
  {
   "cell_type": "markdown",
   "metadata": {},
   "source": [
    "并且，我们可以称从$w_0$移动到$w_1$是第一轮迭代，从$w_1$移动到$w_2$是第二轮迭代，从$w_{(n-1)}$移动到$w_n$是第n轮迭代。"
   ]
  },
  {
   "cell_type": "markdown",
   "metadata": {},
   "source": [
    "> 迭代其实是一个数学意义上的概念，一般指以下计算流程：某次运算时初始条件是上一次运算的结果，而当前运算的结果则是下一次计算的初始条件。"
   ]
  },
  {
   "cell_type": "markdown",
   "metadata": {},
   "source": [
    "&emsp;&emsp;而通过带入梯度值进行多轮迭代，最终使得损失函数的取值逐渐下降的算法，就被称为梯度下降。"
   ]
  },
  {
   "cell_type": "markdown",
   "metadata": {},
   "source": [
    "### 2.梯度下降算法特性与学习率"
   ]
  },
  {
   "cell_type": "markdown",
   "metadata": {},
   "source": [
    "&emsp;&emsp;首先，我们简单验证，经过上述梯度下降的一系列计算，最终能否有效降低损失函数的计算结果，即使得$w$最终朝向最优值2靠拢。我们可以通过定义一个函数来帮助我们进行梯度下降迭代计算。"
   ]
  },
  {
   "cell_type": "code",
   "execution_count": 2,
   "metadata": {},
   "outputs": [],
   "source": [
    "def gd(lr = 0.02, itera_times = 20, w = 10):\n",
    "    \"\"\"\n",
    "    梯度下降计算函数\n",
    "    :param lr: 学习率\n",
    "    :param itera_times：迭代次数\n",
    "    :param w：参数初始取值\n",
    "    :return results：每一轮迭代的参数计算结果列表\n",
    "    \"\"\"                              \n",
    "    results = [w]\n",
    "    for i in range(itera_times):\n",
    "        w -= lr * 28 * (w - 2)            # 梯度计算公式\n",
    "        results.append(w)\n",
    "    return results"
   ]
  },
  {
   "cell_type": "markdown",
   "metadata": {},
   "source": [
    "当我们在以0.02作为学习率，初始值为10，迭代20轮时参数每一轮迭代后参数的计算结果如下："
   ]
  },
  {
   "cell_type": "code",
   "execution_count": 6,
   "metadata": {
    "collapsed": true,
    "jupyter": {
     "outputs_hidden": true
    }
   },
   "outputs": [
    {
     "data": {
      "text/plain": [
       "[10,\n",
       " 5.52,\n",
       " 3.5488,\n",
       " 2.681472,\n",
       " 2.29984768,\n",
       " 2.1319329792,\n",
       " 2.058050510848,\n",
       " 2.02554222477312,\n",
       " 2.0112385789001728,\n",
       " 2.004944974716076,\n",
       " 2.0021757888750735,\n",
       " 2.0009573471050324,\n",
       " 2.000421232726214,\n",
       " 2.000185342399534,\n",
       " 2.000081550655795,\n",
       " 2.00003588228855,\n",
       " 2.000015788206962,\n",
       " 2.0000069468110633,\n",
       " 2.000003056596868,\n",
       " 2.000001344902622,\n",
       " 2.000000591757154]"
      ]
     },
     "execution_count": 6,
     "metadata": {},
     "output_type": "execute_result"
    }
   ],
   "source": [
    "res = gd()\n",
    "res"
   ]
  },
  {
   "cell_type": "markdown",
   "metadata": {},
   "source": [
    "我们发现，参数从10开始朝向2移动，并且迭代20轮时已经非常接近全域最优解2，此处也验证梯度下降确实能够帮助我们找到最优解。当然，我们也可以将上述参数移动过程和损失函数的函数图像绘制到一张画布上，具体功能可以通过如下函数实现："
   ]
  },
  {
   "cell_type": "code",
   "execution_count": 3,
   "metadata": {},
   "outputs": [],
   "source": [
    "def show_trace(res):\n",
    "    \"\"\"\n",
    "    梯度下降轨迹绘制函数\n",
    "    \"\"\"\n",
    "    f_line = np.arange(-6, 10, 0.1)\n",
    "    plt.plot(f_line, [14 * np.power(x-2, 2) for x in f_line])\n",
    "    plt.plot(res, [14 * np.power(x-2, 2) for x in res], '-o')\n",
    "    plt.xlabel('x')\n",
    "    plt.ylabel('Loss(x)')"
   ]
  },
  {
   "cell_type": "code",
   "execution_count": 7,
   "metadata": {},
   "outputs": [
    {
     "data": {
      "image/png": "[encoded data removed]",
      "text/plain": [
       "<Figure size 432x288 with 1 Axes>"
      ]
     },
     "metadata": {
      "needs_background": "light"
     },
     "output_type": "display_data"
    }
   ],
   "source": [
    "show_trace(res)"
   ]
  },
  {
   "cell_type": "markdown",
   "metadata": {},
   "source": [
    "&emsp;&emsp;接下来，我们在此基础之上，详细讨论梯度下降算法的基本特性与超参数取值一般规范。"
   ]
  },
  {
   "cell_type": "markdown",
   "metadata": {},
   "source": [
    "&emsp;&emsp;从图像上，我们发现，梯度下降的计算过程中，刚开始$w$变化非常快，而随着逐渐接近最小值点$w$的变化幅度逐渐减少，也就是说，梯度下降其实并不是一个等步长的移动过程。当然，根据梯度下降的计算公式，$w_{(n-1)}$和$w_{n}$的差值是："
   ]
  },
  {
   "cell_type": "markdown",
   "metadata": {},
   "source": [
    "$$|w_n - w_{(n-1)}| =  |lr \\cdot \\nabla _wf(w_{(n-1)})|$$"
   ]
  },
  {
   "cell_type": "markdown",
   "metadata": {},
   "source": [
    "而lr又是一个恒定的数值，那么也就是说，每个点的梯度值是不一样的（哪怕梯度方向一样），并且越靠近最小值点梯度值越小，当然这点从梯度计算公式也能看出："
   ]
  },
  {
   "cell_type": "markdown",
   "metadata": {},
   "source": [
    "$$\\nabla _wf(w) = \\frac{\\partial f}{\\partial w}=28(w-2)$$"
   ]
  },
  {
   "cell_type": "markdown",
   "metadata": {},
   "source": [
    "当然，这也就等价说明，如果某点的梯度值相对较大，那么该点应该距离全域最小值较远。而梯度下降过程中实际也能够做到在远点迭代移动距离较大、近点迭代移动距离较小。当然，在学习率对移动距离进行修正时，学习率不宜设置过小，也不宜设置过大，例如当学习率设置过小时："
   ]
  },
  {
   "cell_type": "code",
   "execution_count": 12,
   "metadata": {},
   "outputs": [
    {
     "data": {
      "text/plain": [
       "<AxesSubplot:>"
      ]
     },
     "execution_count": 12,
     "metadata": {},
     "output_type": "execute_result"
    },
    {
     "data": {
      "text/plain": [
       "Text(0.5, 1.0, 'lr=0.001')"
      ]
     },
     "execution_count": 12,
     "metadata": {},
     "output_type": "execute_result"
    },
    {
     "data": {
      "text/plain": [
       "<AxesSubplot:>"
      ]
     },
     "execution_count": 12,
     "metadata": {},
     "output_type": "execute_result"
    },
    {
     "data": {
      "text/plain": [
       "Text(0.5, 1.0, 'lr=0.01')"
      ]
     },
     "execution_count": 12,
     "metadata": {},
     "output_type": "execute_result"
    },
    {
     "data": {
      "image/png": "[encoded data removed]",
      "text/plain": [
       "<Figure size 432x288 with 2 Axes>"
      ]
     },
     "metadata": {
      "needs_background": "light"
     },
     "output_type": "display_data"
    }
   ],
   "source": [
    "plt.subplot(121)\n",
    "plt.title('lr=0.001')\n",
    "show_trace(gd(lr=0.001))\n",
    "plt.subplot(122)\n",
    "plt.title('lr=0.01')\n",
    "show_trace(gd(lr=0.01))"
   ]
  },
  {
   "cell_type": "markdown",
   "metadata": {},
   "source": [
    "当学习率取值为0.001时，迭代20轮仍然距离最小值点差距较远，此时我们考虑进一步增加迭代次数："
   ]
  },
  {
   "cell_type": "code",
   "execution_count": 20,
   "metadata": {},
   "outputs": [
    {
     "data": {
      "text/plain": [
       "<AxesSubplot:>"
      ]
     },
     "execution_count": 20,
     "metadata": {},
     "output_type": "execute_result"
    },
    {
     "data": {
      "text/plain": [
       "Text(0.5, 1.0, 'itera_times=20')"
      ]
     },
     "execution_count": 20,
     "metadata": {},
     "output_type": "execute_result"
    },
    {
     "data": {
      "text/plain": [
       "<AxesSubplot:>"
      ]
     },
     "execution_count": 20,
     "metadata": {},
     "output_type": "execute_result"
    },
    {
     "data": {
      "text/plain": [
       "Text(0.5, 1.0, 'itera_times=40')"
      ]
     },
     "execution_count": 20,
     "metadata": {},
     "output_type": "execute_result"
    },
    {
     "data": {
      "image/png": "[encoded data removed]",
      "text/plain": [
       "<Figure size 432x288 with 2 Axes>"
      ]
     },
     "metadata": {
      "needs_background": "light"
     },
     "output_type": "display_data"
    }
   ],
   "source": [
    "plt.subplot(121)\n",
    "plt.title('itera_times=20')\n",
    "show_trace(gd(itera_times=20, lr=0.001))\n",
    "plt.subplot(122)\n",
    "plt.title('itera_times=40')\n",
    "show_trace(gd(itera_times=40, lr=0.001))"
   ]
  },
  {
   "cell_type": "code",
   "execution_count": 21,
   "metadata": {},
   "outputs": [
    {
     "data": {
      "text/plain": [
       "<AxesSubplot:>"
      ]
     },
     "execution_count": 21,
     "metadata": {},
     "output_type": "execute_result"
    },
    {
     "data": {
      "text/plain": [
       "Text(0.5, 1.0, 'itera_times=60')"
      ]
     },
     "execution_count": 21,
     "metadata": {},
     "output_type": "execute_result"
    },
    {
     "data": {
      "text/plain": [
       "<AxesSubplot:>"
      ]
     },
     "execution_count": 21,
     "metadata": {},
     "output_type": "execute_result"
    },
    {
     "data": {
      "text/plain": [
       "Text(0.5, 1.0, 'itera_times=80')"
      ]
     },
     "execution_count": 21,
     "metadata": {},
     "output_type": "execute_result"
    },
    {
     "data": {
      "image/png": "[encoded data removed]",
      "text/plain": [
       "<Figure size 432x288 with 2 Axes>"
      ]
     },
     "metadata": {
      "needs_background": "light"
     },
     "output_type": "display_data"
    }
   ],
   "source": [
    "plt.subplot(121)\n",
    "plt.title('itera_times=60')\n",
    "show_trace(gd(itera_times=60, lr=0.001))\n",
    "plt.subplot(122)\n",
    "plt.title('itera_times=80')\n",
    "show_trace(gd(itera_times=80, lr=0.001))"
   ]
  },
  {
   "cell_type": "markdown",
   "metadata": {},
   "source": [
    "此处学习率为0.001取值的情况下，迭代次数增加了三倍但仍然没有收敛到2附近，需要迭代80次左右才能收敛至较好效果。而过多次的迭代会增加额外计算量，也就是说如果学习率取值较小，则会耗费更多的计算量。"
   ]
  },
  {
   "cell_type": "markdown",
   "metadata": {},
   "source": [
    "&emsp;&emsp;接下来我们再来看当学习率取值过大时可能出现的状况。当我们将学习率设置为0.05时，迭代过程如下所示："
   ]
  },
  {
   "cell_type": "code",
   "execution_count": 47,
   "metadata": {},
   "outputs": [
    {
     "data": {
      "text/plain": [
       "<AxesSubplot:>"
      ]
     },
     "execution_count": 47,
     "metadata": {},
     "output_type": "execute_result"
    },
    {
     "data": {
      "text/plain": [
       "Text(0.5, 1.0, 'lr=0.01')"
      ]
     },
     "execution_count": 47,
     "metadata": {},
     "output_type": "execute_result"
    },
    {
     "data": {
      "text/plain": [
       "<AxesSubplot:>"
      ]
     },
     "execution_count": 47,
     "metadata": {},
     "output_type": "execute_result"
    },
    {
     "data": {
      "text/plain": [
       "Text(0.5, 1.0, 'lr=0.05')"
      ]
     },
     "execution_count": 47,
     "metadata": {},
     "output_type": "execute_result"
    },
    {
     "data": {
      "image/png": "[encoded data removed]",
      "text/plain": [
       "<Figure size 432x288 with 2 Axes>"
      ]
     },
     "metadata": {
      "needs_background": "light"
     },
     "output_type": "display_data"
    }
   ],
   "source": [
    "plt.subplot(121)\n",
    "plt.title('lr=0.01')\n",
    "show_trace(gd(lr=0.01))\n",
    "plt.subplot(122)\n",
    "plt.title('lr=0.05')\n",
    "show_trace(gd(lr=0.05))"
   ]
  },
  {
   "cell_type": "markdown",
   "metadata": {},
   "source": [
    "我们发现当学习率较大时，收敛过程并不平稳，当然小幅度不平稳并不影响最终收敛结果，但学习率继续增加，例如我们将学习率增加至0.08时，参数整体迭代过程不仅不会收敛，而且还会逐渐发散："
   ]
  },
  {
   "cell_type": "code",
   "execution_count": 45,
   "metadata": {},
   "outputs": [
    {
     "data": {
      "image/png": "[encoded data removed]",
      "text/plain": [
       "<Figure size 432x288 with 1 Axes>"
      ]
     },
     "metadata": {
      "needs_background": "light"
     },
     "output_type": "display_data"
    }
   ],
   "source": [
    "show_trace(gd(lr=0.08))"
   ]
  },
  {
   "cell_type": "code",
   "execution_count": 46,
   "metadata": {
    "collapsed": true,
    "jupyter": {
     "outputs_hidden": true
    }
   },
   "outputs": [
    {
     "data": {
      "text/plain": [
       "[10,\n",
       " -7.920000000000002,\n",
       " 14.300800000000006,\n",
       " -13.25299200000001,\n",
       " 20.913710080000012,\n",
       " -21.45300049920002,\n",
       " 31.081720619008028,\n",
       " -34.06133356756996,\n",
       " 46.71605362378676,\n",
       " -53.447906493495594,\n",
       " 70.75540405193455,\n",
       " -83.25670102439885,\n",
       " 107.71830927025458,\n",
       " -129.0907034951157,\n",
       " 164.55247233394346,\n",
       " -199.56506569408992,\n",
       " 251.94068146067156,\n",
       " -307.92644501123283,\n",
       " 386.30879181392874,\n",
       " -474.5429018492717,\n",
       " 592.9131982930971]"
      ]
     },
     "execution_count": 46,
     "metadata": {},
     "output_type": "execute_result"
    }
   ],
   "source": [
    "gd(lr=0.08)"
   ]
  },
  {
   "cell_type": "markdown",
   "metadata": {},
   "source": [
    "由此我们不难发现学习率取值是影响结果是否收敛、以及能否在有限次迭代次数中高效收敛的关键参数。学习率过大会导致结果发散，而学习率过小则又会导致模型无法收敛至最优结果。更多关于学习率参数调整策略，我们会在后续建模环节中逐步介绍。"
   ]
  },
  {
   "cell_type": "markdown",
   "metadata": {},
   "source": [
    "> **不同损失函数选取方式或者数值处理方法对梯度下降过程中移动距离的影响相关讨论**     \n",
    "&emsp;&emsp;这里需要知道的是，影响迭代收敛结果的是每一步移动的真实距离，而移动的真实距离又和学习率和梯度二者相关，有的时候我们可以通过一些数值处理手段等比例缩小梯度，此时学习率就可以稍微设置大些。例如此处如果我们采用MSE计算公式作为损失函数，则梯度计算公式就由原先的$28(w-2)$变为了$\\frac{28(w-2)}{3}$（总共三条样本，$MSE=\\frac{SSE}{3}$）。而此时就相当于梯度减少至原先的1/3，在学习率不变的情况下，每次移动的距离也将减少至原先的1/3。而在另外一种情况下，也就是例如数据归一化，即对带入的数据进行数值调整的一种方法（后续会介绍）。如果带入损失函数计算的数值大幅减少，则最终的梯度也会受其影响，数值也会有所减少，此时同样在学习率不变的情况下每次移动的距离也会减少。"
   ]
  },
  {
   "cell_type": "markdown",
   "metadata": {},
   "source": [
    "> **移动距离衰减**      \n",
    "此外，此处还有一个重要结论，那就是参数点越远离最小值点，参数点的梯度就相对较大，此时每次迭代移动的距离就相对较大，而如果参数点比较靠近最小值点，此时梯度取值较小，每次移动的距离就比较小。而当已经非常接近最小值点时，每次移动的距离就会变得非常小，因此我们其实无论增加多少轮迭代，只要参数不会发散，最终参数值点都不可能“跨过”最小值点。"
   ]
  },
  {
   "cell_type": "markdown",
   "metadata": {},
   "source": [
    "## 二、梯度下降一般建模流程与多维梯度下降"
   ]
  },
  {
   "cell_type": "markdown",
   "metadata": {},
   "source": [
    "### 1.多维梯度下降与损失函数可视化"
   ]
  },
  {
   "cell_type": "markdown",
   "metadata": {},
   "source": [
    "&emsp;&emsp;一种更为一般的情况是，一个模型中包含多个参数，而损失函数就是这多个参数共同构成的函数。例如在Lesson 1中我们曾利用带截距项的简单线性回归$y=wx+b$对下述数据进行拟合，并得出带有两个参数的损失函数："
   ]
  },
  {
   "cell_type": "markdown",
   "metadata": {},
   "source": [
    "|数据特征|参数组|模型输出|数据标签|      \n",
    "|:--:|:--:|:--:|:--:|   \n",
    "|Whole weight(x)|$(w,b)$|$\\hat y$|Rings(y)|    \n",
    "|1|(w, b)|w+b|2|\n",
    "|3|(w, b)|3w+b|4|"
   ]
  },
  {
   "cell_type": "markdown",
   "metadata": {},
   "source": [
    "$$SSELoss(w, b) = (y_1 - ŷ_1)^2 + (y_2 - ŷ_2)^2 = (2 - w - b)^2 + (4 - 3w - b)^2$$"
   ]
  },
  {
   "cell_type": "markdown",
   "metadata": {},
   "source": [
    "而此时损失函数图像就是包含两个变量的三维图像"
   ]
  },
  {
   "cell_type": "code",
   "execution_count": 69,
   "metadata": {},
   "outputs": [],
   "source": [
    "from mpl_toolkits.mplot3d import Axes3D"
   ]
  },
  {
   "cell_type": "code",
   "execution_count": 6,
   "metadata": {},
   "outputs": [],
   "source": [
    "x = np.arange(-1,3,0.05)\n",
    "y = np.arange(-1,3,0.05)\n",
    "w, b = np.meshgrid(x, y)\n",
    "SSE = (2 - w - b) ** 2 + (4 - 3 * w - b) ** 2"
   ]
  },
  {
   "cell_type": "code",
   "execution_count": 7,
   "metadata": {},
   "outputs": [
    {
     "data": {
      "text/plain": [
       "<mpl_toolkits.mplot3d.art3d.Poly3DCollection at 0x1d2623ceec8>"
      ]
     },
     "execution_count": 7,
     "metadata": {},
     "output_type": "execute_result"
    },
    {
     "data": {
      "text/plain": [
       "<matplotlib.contour.QuadContourSet at 0x1d2643da048>"
      ]
     },
     "execution_count": 7,
     "metadata": {},
     "output_type": "execute_result"
    },
    {
     "data": {
      "text/plain": [
       "Text(0.5, 0, 'w')"
      ]
     },
     "execution_count": 7,
     "metadata": {},
     "output_type": "execute_result"
    },
    {
     "data": {
      "text/plain": [
       "Text(0.5, 0, 'b')"
      ]
     },
     "execution_count": 7,
     "metadata": {},
     "output_type": "execute_result"
    },
    {
     "data": {
      "image/png": "[encoded data removed]",
      "text/plain": [
       "<Figure size 432x288 with 1 Axes>"
      ]
     },
     "metadata": {
      "needs_background": "light"
     },
     "output_type": "display_data"
    }
   ],
   "source": [
    "ax = plt.axes(projection='3d')\n",
    "\n",
    "ax.plot_surface(w, b, SSE, cmap='rainbow')\n",
    "ax.contour(w, b, SSE, zdir='z', offset=0, cmap=\"rainbow\")  #生成z方向投影，投到x-y平面\n",
    "plt.xlabel('w')\n",
    "plt.ylabel('b')\n",
    "plt.show()"
   ]
  },
  {
   "cell_type": "markdown",
   "metadata": {},
   "source": [
    "并且，我们通过最小二乘法能够找出全域最小值点为(1,1)，也就是当$w=1,b=1$时，能够让损失函数取值最小。当然，围绕该问题，我们也可以采用梯度下降进行最优解求解。"
   ]
  },
  {
   "cell_type": "markdown",
   "metadata": {},
   "source": [
    "### 2.梯度下降计算流程"
   ]
  },
  {
   "cell_type": "markdown",
   "metadata": {},
   "source": [
    "&emsp;&emsp;此处给出更加严谨的梯度下降实现步骤："
   ]
  },
  {
   "cell_type": "markdown",
   "metadata": {},
   "source": [
    "- Step 1.确定数据及模型"
   ]
  },
  {
   "cell_type": "markdown",
   "metadata": {},
   "source": [
    "&emsp;&emsp;首先还是要明确数据和模型，然后才能进一步确定参数、梯度计算公式等变量。此处我们以$y=wx+b$简单线性回归对上述简单数据集进行拟合，参数向量包含两个分量。"
   ]
  },
  {
   "cell_type": "markdown",
   "metadata": {},
   "source": [
    "- Step 2.设置初始参数值"
   ]
  },
  {
   "cell_type": "markdown",
   "metadata": {},
   "source": [
    "&emsp;&emsp;然后我们需要选取一组参数值，一种更加通用的方法，是给初始参数赋予一组随机数作为初始取值。由于参数包含两个分量，因此参数向量的初始值可以由如下过程确定："
   ]
  },
  {
   "cell_type": "code",
   "execution_count": 8,
   "metadata": {},
   "outputs": [
    {
     "data": {
      "text/plain": [
       "array([[ 1.32921217],\n",
       "       [-0.77003345]])"
      ]
     },
     "execution_count": 8,
     "metadata": {},
     "output_type": "execute_result"
    }
   ],
   "source": [
    "np.random.seed(24)\n",
    "w = np.random.randn(2, 1)                # 参数都默认为列向量\n",
    "w"
   ]
  },
  {
   "cell_type": "markdown",
   "metadata": {},
   "source": [
    "- Step 3.根据损失函数求出梯度表达式"
   ]
  },
  {
   "cell_type": "markdown",
   "metadata": {},
   "source": [
    "&emsp;&emsp;只有确定了梯度表达式，才能在后续每一轮迭代过程中快速计算梯度。线性回归的损失函数是围绕SSE及其衍生的指标所构建的损失函数，此处以MSE作为损失函数的构建指标，此处可借助已经定义好的SSELoss函数执行计算。"
   ]
  },
  {
   "cell_type": "markdown",
   "metadata": {},
   "source": [
    "$$SSELoss(\\hat w) = ||y - X\\hat w||_2^2 = (y - X\\hat w)^T(y - X\\hat w)$$"
   ]
  },
  {
   "cell_type": "markdown",
   "metadata": {},
   "source": [
    "$$MSELoss(\\hat w) = \\frac{||y - X\\hat w||_2^2}{m} = \\frac{(y - X\\hat w)^T(y - X\\hat w)}{m}$$"
   ]
  },
  {
   "cell_type": "markdown",
   "metadata": {},
   "source": [
    "其中m为训练数据总数。"
   ]
  },
  {
   "cell_type": "code",
   "execution_count": 2,
   "metadata": {},
   "outputs": [],
   "source": [
    "def MSELoss(X, w, y):\n",
    "    \"\"\"\n",
    "    MSE指标计算函数\n",
    "    \"\"\"\n",
    "    SSE = SSELoss(X, w, y)\n",
    "    MSE = SSE / X.shape[0]\n",
    "    return MSE"
   ]
  },
  {
   "cell_type": "markdown",
   "metadata": {},
   "source": [
    "此时数据为："
   ]
  },
  {
   "cell_type": "code",
   "execution_count": 3,
   "metadata": {},
   "outputs": [],
   "source": [
    "features = np.array([1, 3]).reshape(-1, 1)\n",
    "features = np.concatenate((features, np.ones_like(features)), axis=1)"
   ]
  },
  {
   "cell_type": "code",
   "execution_count": 4,
   "metadata": {},
   "outputs": [
    {
     "data": {
      "text/plain": [
       "array([[1, 1],\n",
       "       [3, 1]])"
      ]
     },
     "execution_count": 4,
     "metadata": {},
     "output_type": "execute_result"
    }
   ],
   "source": [
    "features"
   ]
  },
  {
   "cell_type": "code",
   "execution_count": 5,
   "metadata": {},
   "outputs": [
    {
     "data": {
      "text/plain": [
       "array([[2],\n",
       "       [4]])"
      ]
     },
     "execution_count": 5,
     "metadata": {},
     "output_type": "execute_result"
    }
   ],
   "source": [
    "labels = np.array([2, 4]).reshape(-1, 1)\n",
    "labels"
   ]
  },
  {
   "cell_type": "code",
   "execution_count": 9,
   "metadata": {},
   "outputs": [
    {
     "data": {
      "text/plain": [
       "array([[2.68811092]])"
      ]
     },
     "execution_count": 9,
     "metadata": {},
     "output_type": "execute_result"
    }
   ],
   "source": [
    "# 计算w取值时SSE\n",
    "SSELoss(features, w, labels)"
   ]
  },
  {
   "cell_type": "code",
   "execution_count": 10,
   "metadata": {},
   "outputs": [
    {
     "data": {
      "text/plain": [
       "array([[1.34405546]])"
      ]
     },
     "execution_count": 10,
     "metadata": {},
     "output_type": "execute_result"
    }
   ],
   "source": [
    "# 计算w取值时MSE\n",
    "MSELoss(features, w, labels)"
   ]
  },
  {
   "cell_type": "markdown",
   "metadata": {},
   "source": [
    "而对于线性回归损失函数梯度表达式，则可根据Lesson 2中线性回归损失函数梯度求导结果得出："
   ]
  },
  {
   "cell_type": "markdown",
   "metadata": {},
   "source": [
    "$$\\begin{aligned}\n",
    "\\frac{SSELoss(\\hat w)}{\\partial{\\boldsymbol{\\hat w}}} \n",
    "&= \\frac{\\partial{||\\boldsymbol{y} - \\boldsymbol{X\\hat w}||_2}^2}{\\partial{\\boldsymbol{\\hat w}}}\n",
    "\\\\\n",
    "&= \\frac{\\partial(\\boldsymbol{y} - \\boldsymbol{X\\hat w})^T(\\boldsymbol{y} - \\boldsymbol{X\\hat w})}{\\partial{\\boldsymbol{\\hat w}}} \\\\\n",
    "& =\\frac{\\partial(\\boldsymbol{y}^T - \\boldsymbol{\\hat w^T X^T})(\\boldsymbol{y} - \\boldsymbol{X\\hat w})}{\\partial{\\boldsymbol{\\hat w}}}\\\\\n",
    "&=\\frac{\\partial(\\boldsymbol{y}^T\\boldsymbol{y} - \\boldsymbol{\\hat w^T X^Ty}-\\boldsymbol{y}^T\\boldsymbol{X \\hat w} +\\boldsymbol{\\hat w^TX^T}\\boldsymbol{X\\hat w})}{\\partial{\\boldsymbol{\\hat w}}}\\\\ \n",
    "& = 0 - \\boldsymbol{X^Ty} - \\boldsymbol{X^Ty}+X^TX\\hat w+(X^TX)^T\\hat w \\\\\n",
    "&= 0 - \\boldsymbol{X^Ty} - \\boldsymbol{X^Ty} + 2\\boldsymbol{X^TX\\hat w}\\\\\n",
    "&= 2(\\boldsymbol{X^TX\\hat w} - \\boldsymbol{X^Ty}) \\\\\n",
    "&= 2X^T(X\\hat w -y)\n",
    "\\end{aligned}$$"
   ]
  },
  {
   "cell_type": "markdown",
   "metadata": {},
   "source": [
    "此处我们使用MSE作为损失函数，则该损失函数的梯度表达式为："
   ]
  },
  {
   "cell_type": "markdown",
   "metadata": {},
   "source": [
    "$$\n",
    "\\frac{MSELoss(\\hat w)}{\\partial{\\boldsymbol{\\hat w}}} = \\frac{2X^T(X\\hat w -y)}{m}\n",
    "$$"
   ]
  },
  {
   "cell_type": "markdown",
   "metadata": {},
   "source": [
    "> 注：矩阵运算也是可以提取公因式的"
   ]
  },
  {
   "cell_type": "markdown",
   "metadata": {},
   "source": [
    "据此我们可以定义线性回归的梯度计算函数"
   ]
  },
  {
   "cell_type": "code",
   "execution_count": 11,
   "metadata": {},
   "outputs": [],
   "source": [
    "def lr_gd(X, w, y):\n",
    "    \"\"\"\n",
    "    线性回归梯度计算公式\n",
    "    \"\"\"\n",
    "    m = X.shape[0]\n",
    "    grad = 2 * X.T.dot((X.dot(w) - y)) / m\n",
    "    return grad"
   ]
  },
  {
   "cell_type": "code",
   "execution_count": 12,
   "metadata": {},
   "outputs": [
    {
     "data": {
      "text/plain": [
       "array([[-3.78801208],\n",
       "       [-2.22321821]])"
      ]
     },
     "execution_count": 12,
     "metadata": {},
     "output_type": "execute_result"
    }
   ],
   "source": [
    "# 计算w取值时梯度\n",
    "lr_gd(features, w, labels)"
   ]
  },
  {
   "cell_type": "markdown",
   "metadata": {},
   "source": [
    "> 该步骤其实也是在手动实现梯度下降计算过程中至关重要的一步，正如此前所介绍的，只有将方程组转化为矩阵形式，才能更好的利用程序进行计算。但值得注意的是，并不是所有的损失函数的梯度计算都能简单表示成矩阵运算形式。"
   ]
  },
  {
   "cell_type": "markdown",
   "metadata": {},
   "source": [
    "- Step 4.执行梯度下降迭代"
   ]
  },
  {
   "cell_type": "markdown",
   "metadata": {},
   "source": [
    "&emsp;&emsp;在给定梯度计算公式和参数初始值的情况下，我们就能够开始进行梯度下降迭代计算了。在梯度下降过程中，参数更新参照如下公式："
   ]
  },
  {
   "cell_type": "markdown",
   "metadata": {},
   "source": [
    "$$w_n = w_{(n-1)} - lr \\cdot \\nabla _wf(w_{(n-1)})$$"
   ]
  },
  {
   "cell_type": "markdown",
   "metadata": {},
   "source": [
    "则可定义相应函数："
   ]
  },
  {
   "cell_type": "code",
   "execution_count": 13,
   "metadata": {},
   "outputs": [],
   "source": [
    "def w_cal(X, w, y, gd_cal, lr = 0.02, itera_times = 20):\n",
    "    \"\"\"\n",
    "    梯度下降中参数更新函数 \n",
    "    :param X: 训练数据特征\n",
    "    :param w: 初始参数取值\n",
    "    :param y: 训练数据标签\n",
    "    :param gd_cal：梯度计算公式\n",
    "    :param lr: 学习率\n",
    "    :param itera_times: 迭代次数       \n",
    "    :return w：最终参数计算结果   \n",
    "    \"\"\"\n",
    "    for i in range(itera_times):\n",
    "        w -= lr * gd_cal(X, w, y)\n",
    "    return w"
   ]
  },
  {
   "cell_type": "markdown",
   "metadata": {},
   "source": [
    "接下来执行梯度下降计算，在学习率为0.1的情况下迭代100轮："
   ]
  },
  {
   "cell_type": "code",
   "execution_count": 18,
   "metadata": {},
   "outputs": [
    {
     "data": {
      "text/plain": [
       "array([[ 1.32921217],\n",
       "       [-0.77003345]])"
      ]
     },
     "execution_count": 18,
     "metadata": {},
     "output_type": "execute_result"
    }
   ],
   "source": [
    "np.random.seed(24)\n",
    "w = np.random.randn(2, 1)                # 参数都默认为列向量\n",
    "w"
   ]
  },
  {
   "cell_type": "code",
   "execution_count": 19,
   "metadata": {},
   "outputs": [
    {
     "data": {
      "text/plain": [
       "array([[1.02052278],\n",
       "       [0.95045363]])"
      ]
     },
     "execution_count": 19,
     "metadata": {},
     "output_type": "execute_result"
    }
   ],
   "source": [
    "w = w_cal(features, w, labels, gd_cal = lr_gd, lr = 0.1, itera_times = 100)\n",
    "w"
   ]
  },
  {
   "cell_type": "code",
   "execution_count": 20,
   "metadata": {},
   "outputs": [
    {
     "data": {
      "text/plain": [
       "array([[0.0009869]])"
      ]
     },
     "execution_count": 20,
     "metadata": {},
     "output_type": "execute_result"
    }
   ],
   "source": [
    "# 计算w取值时SSE\n",
    "SSELoss(features, w, labels)"
   ]
  },
  {
   "cell_type": "code",
   "execution_count": 21,
   "metadata": {},
   "outputs": [
    {
     "data": {
      "text/plain": [
       "array([[0.00049345]])"
      ]
     },
     "execution_count": 21,
     "metadata": {},
     "output_type": "execute_result"
    }
   ],
   "source": [
    "# 计算w取值时MSE\n",
    "MSELoss(features, w, labels)"
   ]
  },
  {
   "cell_type": "code",
   "execution_count": 22,
   "metadata": {},
   "outputs": [
    {
     "data": {
      "text/plain": [
       "array([[ 0.0070423 ],\n",
       "       [-0.01700163]])"
      ]
     },
     "execution_count": 22,
     "metadata": {},
     "output_type": "execute_result"
    }
   ],
   "source": [
    "# 计算w取值时梯度\n",
    "lr_gd(features, w, labels)"
   ]
  },
  {
   "cell_type": "markdown",
   "metadata": {},
   "source": [
    "我们发现，最终参数结果逼近(1,1)点，也就是说整体计算过程能够在迭代多轮之后逼近全域最小值点。据此也验证了梯度下降本身的有效性。当然，此处是以二维梯度下降为例进行的展示，更高维度的梯度下降过程也是类似，并且可以借助NumPy当中数组的优秀性质来完成相关梯度的计算。"
   ]
  },
  {
   "cell_type": "markdown",
   "metadata": {},
   "source": [
    "### 3.二维梯度下降过程的可视化展示"
   ]
  },
  {
   "cell_type": "markdown",
   "metadata": {},
   "source": [
    "#### 3.1 等高线图"
   ]
  },
  {
   "cell_type": "markdown",
   "metadata": {},
   "source": [
    "&emsp;&emsp;为了方便后续其他梯度下降算法的性质展示，我们通过绘制损失函数的等高线图来观察二维梯度下降过程中参数点移动的过程。首先在上述迭代100次的过程中，我们可以记录每一次迭代的计算结果："
   ]
  },
  {
   "cell_type": "code",
   "execution_count": 23,
   "metadata": {},
   "outputs": [],
   "source": [
    "def w_cal_rec(X, w, y, gd_cal, lr = 0.02, itera_times = 20):\n",
    "    w_res = [np.copy(w)]\n",
    "    for i in range(itera_times):\n",
    "        w -= lr * gd_cal(X, w, y)\n",
    "        w_res.append(np.copy(w))\n",
    "    return w, w_res"
   ]
  },
  {
   "cell_type": "code",
   "execution_count": 24,
   "metadata": {},
   "outputs": [],
   "source": [
    "np.random.seed(24)\n",
    "w = np.random.randn(2, 1)"
   ]
  },
  {
   "cell_type": "code",
   "execution_count": 25,
   "metadata": {},
   "outputs": [],
   "source": [
    "w, w_res = w_cal_rec(features, w, labels, gd_cal = lr_gd, lr = 0.1, itera_times = 100)"
   ]
  },
  {
   "cell_type": "code",
   "execution_count": 26,
   "metadata": {
    "collapsed": true,
    "jupyter": {
     "outputs_hidden": true
    }
   },
   "outputs": [
    {
     "data": {
      "text/plain": [
       "[array([[ 1.32921217],\n",
       "        [-0.77003345]]),\n",
       " array([[ 1.70801338],\n",
       "        [-0.54771163]]),\n",
       " array([[ 1.61908465],\n",
       "        [-0.52137466]]),\n",
       " array([[ 1.60854986],\n",
       "        [-0.46473359]]),\n",
       " array([[ 1.58589343],\n",
       "        [-0.41520681]]),\n",
       " array([[ 1.56608273],\n",
       "        [-0.36652283]]),\n",
       " array([[ 1.54660913],\n",
       "        [-0.31965135]]),\n",
       " array([[ 1.52786054],\n",
       "        [-0.27436473]]),\n",
       " array([[ 1.50974589],\n",
       "        [-0.230636  ]]),\n",
       " array([[ 1.4922544 ],\n",
       "        [-0.18840716]]),\n",
       " array([[ 1.47536286],\n",
       "        [-0.14762749]]),\n",
       " array([[ 1.45905099],\n",
       "        [-0.10824714]]),\n",
       " array([[ 1.44329885],\n",
       "        [-0.07021811]]),\n",
       " array([[ 1.42808724],\n",
       "        [-0.03349403]]),\n",
       " array([[1.41339761],\n",
       "        [0.00196988]]),\n",
       " array([[1.39921205],\n",
       "        [0.03621686]]),\n",
       " array([[1.38551326],\n",
       "        [0.06928867]]),\n",
       " array([[1.37228453],\n",
       "        [0.10122563]]),\n",
       " array([[1.35950975],\n",
       "        [0.13206669]]),\n",
       " array([[1.34717332],\n",
       "        [0.16184946]]),\n",
       " array([[1.33526022],\n",
       "        [0.19061024]]),\n",
       " array([[1.32375591],\n",
       "        [0.2183841 ]]),\n",
       " array([[1.31264636],\n",
       "        [0.24520492]]),\n",
       " array([[1.30191803],\n",
       "        [0.27110539]]),\n",
       " array([[1.29155784],\n",
       "        [0.2961171 ]]),\n",
       " array([[1.28155316],\n",
       "        [0.32027054]]),\n",
       " array([[1.27189178],\n",
       "        [0.34359517]]),\n",
       " array([[1.26256193],\n",
       "        [0.36611942]]),\n",
       " array([[1.25355223],\n",
       "        [0.38787077]]),\n",
       " array([[1.24485169],\n",
       "        [0.40887572]]),\n",
       " array([[1.23644971],\n",
       "        [0.4291599 ]]),\n",
       " array([[1.22833604],\n",
       "        [0.44874803]]),\n",
       " array([[1.22050079],\n",
       "        [0.46766401]]),\n",
       " array([[1.2129344 ],\n",
       "        [0.48593089]]),\n",
       " array([[1.20562764],\n",
       "        [0.50357096]]),\n",
       " array([[1.19857162],\n",
       "        [0.52060571]]),\n",
       " array([[1.19175772],\n",
       "        [0.53705592]]),\n",
       " array([[1.18517763],\n",
       "        [0.55294165]]),\n",
       " array([[1.17882334],\n",
       "        [0.56828227]]),\n",
       " array([[1.17268709],\n",
       "        [0.58309648]]),\n",
       " array([[1.16676141],\n",
       "        [0.59740235]]),\n",
       " array([[1.16103906],\n",
       "        [0.61121731]]),\n",
       " array([[1.15551307],\n",
       "        [0.62455823]]),\n",
       " array([[1.15017671],\n",
       "        [0.63744135]]),\n",
       " array([[1.14502346],\n",
       "        [0.6498824 ]]),\n",
       " array([[1.14004704],\n",
       "        [0.66189653]]),\n",
       " array([[1.13524139],\n",
       "        [0.67349841]]),\n",
       " array([[1.13060064],\n",
       "        [0.68470217]]),\n",
       " array([[1.12611913],\n",
       "        [0.69552148]]),\n",
       " array([[1.12179141],\n",
       "        [0.70596953]]),\n",
       " array([[1.11761219],\n",
       "        [0.71605907]]),\n",
       " array([[1.11357637],\n",
       "        [0.72580238]]),\n",
       " array([[1.10967905],\n",
       "        [0.73521135]]),\n",
       " array([[1.10591546],\n",
       "        [0.74429746]]),\n",
       " array([[1.10228101],\n",
       "        [0.75307179]]),\n",
       " array([[1.09877129],\n",
       "        [0.76154502]]),\n",
       " array([[1.09538199],\n",
       "        [0.7697275 ]]),\n",
       " array([[1.092109  ],\n",
       "        [0.77762921]]),\n",
       " array([[1.08894832],\n",
       "        [0.78525977]]),\n",
       " array([[1.08589609],\n",
       "        [0.79262849]]),\n",
       " array([[1.08294861],\n",
       "        [0.79974435]]),\n",
       " array([[1.08010226],\n",
       "        [0.80661604]]),\n",
       " array([[1.07735358],\n",
       "        [0.81325193]]),\n",
       " array([[1.07469923],\n",
       "        [0.81966011]]),\n",
       " array([[1.07213596],\n",
       "        [0.8258484 ]]),\n",
       " array([[1.06966064],\n",
       "        [0.83182433]]),\n",
       " array([[1.06727027],\n",
       "        [0.83759521]]),\n",
       " array([[1.06496192],\n",
       "        [0.84316806]]),\n",
       " array([[1.06273278],\n",
       "        [0.84854968]]),\n",
       " array([[1.06058013],\n",
       "        [0.85374664]]),\n",
       " array([[1.05850135],\n",
       "        [0.85876526]]),\n",
       " array([[1.0564939 ],\n",
       "        [0.86361167]]),\n",
       " array([[1.05455533],\n",
       "        [0.86829178]]),\n",
       " array([[1.05268329],\n",
       "        [0.87281129]]),\n",
       " array([[1.05087548],\n",
       "        [0.87717571]]),\n",
       " array([[1.04912971],\n",
       "        [0.88139038]]),\n",
       " array([[1.04744385],\n",
       "        [0.88546042]]),\n",
       " array([[1.04581583],\n",
       "        [0.88939079]]),\n",
       " array([[1.04424368],\n",
       "        [0.8931863 ]]),\n",
       " array([[1.04272548],\n",
       "        [0.89685157]]),\n",
       " array([[1.04125937],\n",
       "        [0.90039106]]),\n",
       " array([[1.03984357],\n",
       "        [0.9038091 ]]),\n",
       " array([[1.03847636],\n",
       "        [0.90710985]]),\n",
       " array([[1.03715606],\n",
       "        [0.91029734]]),\n",
       " array([[1.03588107],\n",
       "        [0.91337545]]),\n",
       " array([[1.03464982],\n",
       "        [0.91634793]]),\n",
       " array([[1.03346083],\n",
       "        [0.91921842]]),\n",
       " array([[1.03231263],\n",
       "        [0.9219904 ]]),\n",
       " array([[1.03120384],\n",
       "        [0.92466727]]),\n",
       " array([[1.03013309],\n",
       "        [0.92725228]]),\n",
       " array([[1.02909909],\n",
       "        [0.92974859]]),\n",
       " array([[1.02810057],\n",
       "        [0.93215923]]),\n",
       " array([[1.02713631],\n",
       "        [0.93448716]]),\n",
       " array([[1.02620514],\n",
       "        [0.93673521]]),\n",
       " array([[1.02530592],\n",
       "        [0.93890611]]),\n",
       " array([[1.02443756],\n",
       "        [0.94100252]]),\n",
       " array([[1.02359899],\n",
       "        [0.94302699]]),\n",
       " array([[1.0227892],\n",
       "        [0.944982 ]]),\n",
       " array([[1.0220072 ],\n",
       "        [0.94686992]]),\n",
       " array([[1.02125203],\n",
       "        [0.94869305]]),\n",
       " array([[1.02052278],\n",
       "        [0.95045363]])]"
      ]
     },
     "execution_count": 26,
     "metadata": {},
     "output_type": "execute_result"
    }
   ],
   "source": [
    "w_res"
   ]
  },
  {
   "cell_type": "code",
   "execution_count": 31,
   "metadata": {
    "collapsed": true,
    "jupyter": {
     "outputs_hidden": true
    }
   },
   "outputs": [
    {
     "data": {
      "text/plain": [
       "array([[1.32921217],\n",
       "       [1.70801338],\n",
       "       [1.61908465],\n",
       "       [1.60854986],\n",
       "       [1.58589343],\n",
       "       [1.56608273],\n",
       "       [1.54660913],\n",
       "       [1.52786054],\n",
       "       [1.50974589],\n",
       "       [1.4922544 ],\n",
       "       [1.47536286],\n",
       "       [1.45905099],\n",
       "       [1.44329885],\n",
       "       [1.42808724],\n",
       "       [1.41339761],\n",
       "       [1.39921205],\n",
       "       [1.38551326],\n",
       "       [1.37228453],\n",
       "       [1.35950975],\n",
       "       [1.34717332],\n",
       "       [1.33526022],\n",
       "       [1.32375591],\n",
       "       [1.31264636],\n",
       "       [1.30191803],\n",
       "       [1.29155784],\n",
       "       [1.28155316],\n",
       "       [1.27189178],\n",
       "       [1.26256193],\n",
       "       [1.25355223],\n",
       "       [1.24485169],\n",
       "       [1.23644971],\n",
       "       [1.22833604],\n",
       "       [1.22050079],\n",
       "       [1.2129344 ],\n",
       "       [1.20562764],\n",
       "       [1.19857162],\n",
       "       [1.19175772],\n",
       "       [1.18517763],\n",
       "       [1.17882334],\n",
       "       [1.17268709],\n",
       "       [1.16676141],\n",
       "       [1.16103906],\n",
       "       [1.15551307],\n",
       "       [1.15017671],\n",
       "       [1.14502346],\n",
       "       [1.14004704],\n",
       "       [1.13524139],\n",
       "       [1.13060064],\n",
       "       [1.12611913],\n",
       "       [1.12179141],\n",
       "       [1.11761219],\n",
       "       [1.11357637],\n",
       "       [1.10967905],\n",
       "       [1.10591546],\n",
       "       [1.10228101],\n",
       "       [1.09877129],\n",
       "       [1.09538199],\n",
       "       [1.092109  ],\n",
       "       [1.08894832],\n",
       "       [1.08589609],\n",
       "       [1.08294861],\n",
       "       [1.08010226],\n",
       "       [1.07735358],\n",
       "       [1.07469923],\n",
       "       [1.07213596],\n",
       "       [1.06966064],\n",
       "       [1.06727027],\n",
       "       [1.06496192],\n",
       "       [1.06273278],\n",
       "       [1.06058013],\n",
       "       [1.05850135],\n",
       "       [1.0564939 ],\n",
       "       [1.05455533],\n",
       "       [1.05268329],\n",
       "       [1.05087548],\n",
       "       [1.04912971],\n",
       "       [1.04744385],\n",
       "       [1.04581583],\n",
       "       [1.04424368],\n",
       "       [1.04272548],\n",
       "       [1.04125937],\n",
       "       [1.03984357],\n",
       "       [1.03847636],\n",
       "       [1.03715606],\n",
       "       [1.03588107],\n",
       "       [1.03464982],\n",
       "       [1.03346083],\n",
       "       [1.03231263],\n",
       "       [1.03120384],\n",
       "       [1.03013309],\n",
       "       [1.02909909],\n",
       "       [1.02810057],\n",
       "       [1.02713631],\n",
       "       [1.02620514],\n",
       "       [1.02530592],\n",
       "       [1.02443756],\n",
       "       [1.02359899],\n",
       "       [1.0227892 ],\n",
       "       [1.0220072 ],\n",
       "       [1.02125203],\n",
       "       [1.02052278]])"
      ]
     },
     "execution_count": 31,
     "metadata": {},
     "output_type": "execute_result"
    }
   ],
   "source": [
    "# 所有点的横坐标\n",
    "np.array(w_res)[:, 0]"
   ]
  },
  {
   "cell_type": "markdown",
   "metadata": {},
   "source": [
    "- 参数移动轨迹图"
   ]
  },
  {
   "cell_type": "markdown",
   "metadata": {},
   "source": [
    "据此我们可以将所有点在迭代过程的移动轨迹绘制在图片上："
   ]
  },
  {
   "cell_type": "code",
   "execution_count": 221,
   "metadata": {},
   "outputs": [
    {
     "data": {
      "text/plain": [
       "[<matplotlib.lines.Line2D at 0x28af20401c8>]"
      ]
     },
     "execution_count": 221,
     "metadata": {},
     "output_type": "execute_result"
    },
    {
     "data": {
      "image/png": "[encoded data removed]",
      "text/plain": [
       "<Figure size 432x288 with 1 Axes>"
      ]
     },
     "metadata": {
      "needs_background": "light"
     },
     "output_type": "display_data"
    }
   ],
   "source": [
    "plt.plot(np.array(w_res)[:, 0], np.array(w_res)[:, 1], '-o', color='#ff7f0e')"
   ]
  },
  {
   "cell_type": "markdown",
   "metadata": {},
   "source": [
    "> 更多关于matplotlib绘图中色卡及对应参数选择，详见：[https://blog.csdn.net/weixin_30369087/article/details/94971393]"
   ]
  },
  {
   "cell_type": "markdown",
   "metadata": {},
   "source": [
    "&emsp;&emsp;我们发现，参数在参数平面上的移动轨迹其实并不是一条直线。当然，我们也可以通过等高线图来观察参数点逼近(1,1)点的移动情况。"
   ]
  },
  {
   "cell_type": "code",
   "execution_count": 233,
   "metadata": {},
   "outputs": [],
   "source": [
    "# 网格点坐标\n",
    "x1, x2 = np.meshgrid(np.arange(1, 2, 0.001), np.arange(-1, 1, 0.001))"
   ]
  },
  {
   "cell_type": "markdown",
   "metadata": {},
   "source": [
    "其中np.meshgrid生成两个序列，第一个序列根据输入的第一个参数按照列排列，第二个序列根据输入的第二个参数按行排列。该函数输出结果主要用于带网格的图像绘制情况。"
   ]
  },
  {
   "cell_type": "code",
   "execution_count": 32,
   "metadata": {},
   "outputs": [
    {
     "data": {
      "text/plain": [
       "[array([[0, 1, 2],\n",
       "        [0, 1, 2],\n",
       "        [0, 1, 2],\n",
       "        [0, 1, 2]]),\n",
       " array([[1, 1, 1],\n",
       "        [2, 2, 2],\n",
       "        [3, 3, 3],\n",
       "        [4, 4, 4]])]"
      ]
     },
     "execution_count": 32,
     "metadata": {},
     "output_type": "execute_result"
    }
   ],
   "source": [
    "np.meshgrid(np.arange(3), np.arange(1, 5))"
   ]
  },
  {
   "cell_type": "code",
   "execution_count": 235,
   "metadata": {},
   "outputs": [
    {
     "data": {
      "text/plain": [
       "<matplotlib.contour.QuadContourSet at 0x28af214d808>"
      ]
     },
     "execution_count": 235,
     "metadata": {},
     "output_type": "execute_result"
    },
    {
     "data": {
      "text/plain": [
       "[<matplotlib.lines.Line2D at 0x28af49fddc8>]"
      ]
     },
     "execution_count": 235,
     "metadata": {},
     "output_type": "execute_result"
    },
    {
     "data": {
      "image/png": "[encoded data removed]",
      "text/plain": [
       "<Figure size 432x288 with 1 Axes>"
      ]
     },
     "metadata": {
      "needs_background": "light"
     },
     "output_type": "display_data"
    }
   ],
   "source": [
    "# 绘制等高线图\n",
    "plt.contour(x1, x2, (2-x1-x2)**2+(4-3*x1-x2)**2)\n",
    "\n",
    "# 绘制参数点移动轨迹图\n",
    "plt.plot(np.array(w_res)[:, 0], np.array(w_res)[:, 1], '-o', color='#ff7f0e')"
   ]
  },
  {
   "cell_type": "markdown",
   "metadata": {},
   "source": [
    "其中，等高线图要求输入网格的范围和间隔（即x1和x2），以及输入对应函数关系（即x1和x2二者作为自变量的函数表达式）。"
   ]
  },
  {
   "cell_type": "markdown",
   "metadata": {},
   "source": [
    "#### 3.2 损失函数取值变化图"
   ]
  },
  {
   "cell_type": "markdown",
   "metadata": {},
   "source": [
    "&emsp;&emsp;从一个更加严谨的角度，我们可以绘制其损失函数变化曲线："
   ]
  },
  {
   "cell_type": "code",
   "execution_count": 240,
   "metadata": {},
   "outputs": [],
   "source": [
    "loss_value = np.array([MSELoss(features, np.array(w), labels) for w in w_res]).flatten()"
   ]
  },
  {
   "cell_type": "code",
   "execution_count": 244,
   "metadata": {
    "collapsed": true,
    "jupyter": {
     "outputs_hidden": true
    }
   },
   "outputs": [
    {
     "data": {
      "text/plain": [
       "array([1.34405546e+00, 5.18623852e-01, 4.63471078e-01, 4.31655465e-01,\n",
       "       4.02524386e-01, 3.75373031e-01, 3.50053485e-01, 3.26441796e-01,\n",
       "       3.04422755e-01, 2.83888935e-01, 2.64740155e-01, 2.46882992e-01,\n",
       "       2.30230325e-01, 2.14700907e-01, 2.00218974e-01, 1.86713872e-01,\n",
       "       1.74119712e-01, 1.62375048e-01, 1.51422581e-01, 1.41208877e-01,\n",
       "       1.31684104e-01, 1.22801792e-01, 1.14518608e-01, 1.06794137e-01,\n",
       "       9.95906956e-02, 9.28731379e-02, 8.66086905e-02, 8.07667906e-02,\n",
       "       7.53189365e-02, 7.02385492e-02, 6.55008424e-02, 6.10827019e-02,\n",
       "       5.69625722e-02, 5.31203522e-02, 4.95372963e-02, 4.61959234e-02,\n",
       "       4.30799317e-02, 4.01741188e-02, 3.74643078e-02, 3.49372780e-02,\n",
       "       3.25807006e-02, 3.03830783e-02, 2.83336892e-02, 2.64225348e-02,\n",
       "       2.46402910e-02, 2.29782625e-02, 2.14283405e-02, 1.99829634e-02,\n",
       "       1.86350793e-02, 1.73781123e-02, 1.62059298e-02, 1.51128129e-02,\n",
       "       1.40934286e-02, 1.31428034e-02, 1.22562995e-02, 1.14295918e-02,\n",
       "       1.06586468e-02, 9.93970341e-03, 9.26925391e-03, 8.64402735e-03,\n",
       "       8.06097336e-03, 7.51724732e-03, 7.01019651e-03, 6.53734712e-03,\n",
       "       6.09639220e-03, 5.68518043e-03, 5.30170557e-03, 4.94409673e-03,\n",
       "       4.61060920e-03, 4.29961595e-03, 4.00959972e-03, 3.73914556e-03,\n",
       "       3.48693399e-03, 3.25173450e-03, 3.03239961e-03, 2.82785922e-03,\n",
       "       2.63711543e-03, 2.45923761e-03, 2.29335795e-03, 2.13866715e-03,\n",
       "       1.99441050e-03, 1.85988420e-03, 1.73443193e-03, 1.61744161e-03,\n",
       "       1.50834249e-03, 1.40660229e-03, 1.31172463e-03, 1.22324662e-03,\n",
       "       1.14073661e-03, 1.06379203e-03, 9.92037492e-04, 9.25122916e-04,\n",
       "       8.62721840e-04, 8.04529820e-04, 7.50262948e-04, 6.99656466e-04,\n",
       "       6.52463476e-04, 6.08453732e-04, 5.67412517e-04, 5.29139601e-04,\n",
       "       4.93448257e-04])"
      ]
     },
     "execution_count": 244,
     "metadata": {},
     "output_type": "execute_result"
    }
   ],
   "source": [
    "loss_value"
   ]
  },
  {
   "cell_type": "code",
   "execution_count": 241,
   "metadata": {},
   "outputs": [
    {
     "data": {
      "text/plain": [
       "[<matplotlib.lines.Line2D at 0x28aefdb67c8>]"
      ]
     },
     "execution_count": 241,
     "metadata": {},
     "output_type": "execute_result"
    },
    {
     "data": {
      "image/png": "[encoded data removed]",
      "text/plain": [
       "<Figure size 432x288 with 1 Axes>"
      ]
     },
     "metadata": {
      "needs_background": "light"
     },
     "output_type": "display_data"
    }
   ],
   "source": [
    "plt.plot(np.arange(101), loss_value)"
   ]
  },
  {
   "cell_type": "markdown",
   "metadata": {},
   "source": [
    "&emsp;&emsp;能够发现，在梯度下降过程中损失值是严格递减的。当然我们也可以将上述过程分装为一个函数："
   ]
  },
  {
   "cell_type": "code",
   "execution_count": 246,
   "metadata": {},
   "outputs": [],
   "source": [
    "def loss_vis(X, w_res, y, loss_func):\n",
    "    loss_value = np.array([loss_func(X, np.array(w), y) for w in w_res]).flatten()\n",
    "    plt.plot(np.arange(len(loss_value)), loss_value)"
   ]
  },
  {
   "cell_type": "code",
   "execution_count": 248,
   "metadata": {},
   "outputs": [
    {
     "data": {
      "image/png": "[encoded data removed]",
      "text/plain": [
       "<Figure size 432x288 with 1 Axes>"
      ]
     },
     "metadata": {
      "needs_background": "light"
     },
     "output_type": "display_data"
    }
   ],
   "source": [
    "# 验证函数是否可执行\n",
    "loss_vis(features, w_res, labels, MSELoss)"
   ]
  },
  {
   "cell_type": "markdown",
   "metadata": {},
   "source": [
    "### 4.线性回归的梯度下降求解过程"
   ]
  },
  {
   "cell_type": "markdown",
   "metadata": {},
   "source": [
    "&emsp;&emsp;在掌握梯度下降基本原理即基本性质之后，我们可以尝试在手动创建的线性回归数据集上进行梯度下降方法的参数求解。还是围绕Lesson 3.3中的数据集进行线性回归参数求解，梯度下降求解过程仍然按照上述过程执行："
   ]
  },
  {
   "cell_type": "markdown",
   "metadata": {},
   "source": [
    "- Step 1.确定数据集和模型"
   ]
  },
  {
   "cell_type": "markdown",
   "metadata": {},
   "source": [
    "&emsp;&emsp;仍然还是创建扰动项不大、基本满足$y=2x_1-x_2+1$规律的数据集。"
   ]
  },
  {
   "cell_type": "code",
   "execution_count": 249,
   "metadata": {},
   "outputs": [],
   "source": [
    "# 设置随机数种子\n",
    "np.random.seed(24)   \n",
    "\n",
    "# 扰动项取值为0.01\n",
    "features, labels = arrayGenReg(delta=0.01)"
   ]
  },
  {
   "cell_type": "markdown",
   "metadata": {},
   "source": [
    "- Step 2.设置初始参数"
   ]
  },
  {
   "cell_type": "code",
   "execution_count": 250,
   "metadata": {},
   "outputs": [
    {
     "data": {
      "text/plain": [
       "array([[ 1.32921217],\n",
       "       [-0.77003345],\n",
       "       [-0.31628036]])"
      ]
     },
     "execution_count": 250,
     "metadata": {},
     "output_type": "execute_result"
    }
   ],
   "source": [
    "np.random.seed(24)  \n",
    "w = np.random.randn(3, 1)\n",
    "w"
   ]
  },
  {
   "cell_type": "markdown",
   "metadata": {},
   "source": [
    "- Step 3.构建损失函数与梯度表达式"
   ]
  },
  {
   "cell_type": "code",
   "execution_count": 251,
   "metadata": {},
   "outputs": [
    {
     "data": {
      "text/plain": [
       "array([[2093.52940481]])"
      ]
     },
     "execution_count": 251,
     "metadata": {},
     "output_type": "execute_result"
    }
   ],
   "source": [
    "# 计算w取值时SSE\n",
    "SSELoss(features, w, labels)"
   ]
  },
  {
   "cell_type": "code",
   "execution_count": 252,
   "metadata": {},
   "outputs": [
    {
     "data": {
      "text/plain": [
       "array([[2.0935294]])"
      ]
     },
     "execution_count": 252,
     "metadata": {},
     "output_type": "execute_result"
    }
   ],
   "source": [
    "# 计算w取值时MSE\n",
    "MSELoss(features, w, labels)"
   ]
  },
  {
   "cell_type": "code",
   "execution_count": 253,
   "metadata": {},
   "outputs": [
    {
     "data": {
      "text/plain": [
       "array([[-1.15082596],\n",
       "       [ 0.3808195 ],\n",
       "       [-2.52877477]])"
      ]
     },
     "execution_count": 253,
     "metadata": {},
     "output_type": "execute_result"
    }
   ],
   "source": [
    "# 计算w取值时梯度\n",
    "lr_gd(features, w, labels)"
   ]
  },
  {
   "cell_type": "markdown",
   "metadata": {},
   "source": [
    "- Step 4.执行梯度下降计算"
   ]
  },
  {
   "cell_type": "markdown",
   "metadata": {},
   "source": [
    "&emsp;&emsp;接下来，借助此前所定义的参数更新函数进行梯度下降参数求解："
   ]
  },
  {
   "cell_type": "code",
   "execution_count": 254,
   "metadata": {},
   "outputs": [
    {
     "data": {
      "text/plain": [
       "array([[ 1.99961892],\n",
       "       [-0.99985281],\n",
       "       [ 0.99970541]])"
      ]
     },
     "execution_count": 254,
     "metadata": {},
     "output_type": "execute_result"
    }
   ],
   "source": [
    "w = w_cal(features, w, labels, gd_cal = lr_gd, lr = 0.1, itera_times = 100)\n",
    "w"
   ]
  },
  {
   "cell_type": "code",
   "execution_count": 255,
   "metadata": {},
   "outputs": [
    {
     "data": {
      "text/plain": [
       "array([[0.09300731]])"
      ]
     },
     "execution_count": 255,
     "metadata": {},
     "output_type": "execute_result"
    }
   ],
   "source": [
    "# 计算w取值时SSE\n",
    "SSELoss(features, w, labels)"
   ]
  },
  {
   "cell_type": "code",
   "execution_count": 256,
   "metadata": {},
   "outputs": [
    {
     "data": {
      "text/plain": [
       "array([[9.30073138e-05]])"
      ]
     },
     "execution_count": 256,
     "metadata": {},
     "output_type": "execute_result"
    }
   ],
   "source": [
    "# 计算w取值时MSE\n",
    "MSELoss(features, w, labels)"
   ]
  },
  {
   "cell_type": "markdown",
   "metadata": {},
   "source": [
    "&emsp;&emsp;至此，我们就完成了梯度下降算法的手动实现过程。"
   ]
  },
  {
   "cell_type": "markdown",
   "metadata": {},
   "source": [
    "## 三、梯度下降算法评价"
   ]
  },
  {
   "cell_type": "markdown",
   "metadata": {},
   "source": [
    "### 1.梯度下降算法优势"
   ]
  },
  {
   "cell_type": "markdown",
   "metadata": {},
   "source": [
    "&emsp;&emsp;本节我们以线性回归的损失函数构建了梯度表达式来进行梯度下降的计算，尽管线性回归的损失函数可以用最小二乘法直接进行求解，但梯度下降算法在某些场景下仍然具备一定优势，这些优势主要体现在两个方面，其一是相比大规模数值矩阵运算，梯度下降所遵循的迭代求解效率更高（尽管大规模矩阵运算也可以通过分块矩阵的划分来减少每一次计算的数据量），其二则是对于某些最小二乘法无法计算全域唯一最优解的情况，梯度下降仍然能够有效进行最小值点（或者解空间）的寻找。"
   ]
  },
  {
   "cell_type": "markdown",
   "metadata": {},
   "source": [
    "> **数值解和解析解**      \n",
    "对于通过严格数学公式计算得出的结果，类似最小二乘法计算结果，也被称为解析解。而由某种计算方法或者计算流程得出的结果，例如梯度下降算得的结果，也被称为数值解。"
   ]
  },
  {
   "cell_type": "markdown",
   "metadata": {},
   "source": [
    "### 2.梯度下降算法局限"
   ]
  },
  {
   "cell_type": "markdown",
   "metadata": {},
   "source": [
    "&emsp;&emsp;但是，对于上述梯度下降算法还是存在一定的局限性。当损失函数不是凸函数时，也就是有可能存在局部最小值或者鞍点时，梯度下降并不一定能够准确找到全域最小值。"
   ]
  },
  {
   "cell_type": "markdown",
   "metadata": {},
   "source": [
    "#### 2.1 局部最小值点（local minimun）陷阱"
   ]
  },
  {
   "cell_type": "markdown",
   "metadata": {},
   "source": [
    "&emsp;&emsp;所谓局部最小值，指的是该点左右两端取值都大于该点，但是该点不是全域最小值点。例如函数："
   ]
  },
  {
   "cell_type": "markdown",
   "metadata": {},
   "source": [
    "$$f(x)=x\\cdot cos(\\pi x)$$"
   ]
  },
  {
   "cell_type": "markdown",
   "metadata": {},
   "source": [
    "该函数函数图像如下："
   ]
  },
  {
   "cell_type": "code",
   "execution_count": 34,
   "metadata": {},
   "outputs": [],
   "source": [
    "x = np.arange(-1, 2, 0.1)\n",
    "y = x * np.cos(np.pi * x)"
   ]
  },
  {
   "cell_type": "code",
   "execution_count": 35,
   "metadata": {},
   "outputs": [
    {
     "data": {
      "text/plain": [
       "Text(0, 0.5, 'x·cos(pi·x)')"
      ]
     },
     "execution_count": 35,
     "metadata": {},
     "output_type": "execute_result"
    },
    {
     "data": {
      "image/png": "[encoded data removed]",
      "text/plain": [
       "<Figure size 432x288 with 1 Axes>"
      ]
     },
     "metadata": {
      "needs_background": "light"
     },
     "output_type": "display_data"
    }
   ],
   "source": [
    "fig = plt.plot(x, y)[0]\n",
    "fig.axes.annotate('local minimun', xytext=(-0.77, -1), \n",
    "                  arrowprops=dict(arrowstyle='->'), xy=(-0.3, -0.25))\n",
    "fig.axes.annotate('global minimun', xytext=(0.6, 0.8), \n",
    "                  arrowprops=dict(arrowstyle='->'), xy=(1.1, -0.95))\n",
    "plt.xlabel('x')\n",
    "plt.ylabel('x·cos(pi·x)')"
   ]
  },
  {
   "cell_type": "markdown",
   "metadata": {},
   "source": [
    "> 注，其中plt.plot(x, y)[0]是返回图像对象，axes.annotate是在图像上添加文字或图形，xytext是文字起始坐标，xy是图形起始坐标。"
   ]
  },
  {
   "cell_type": "markdown",
   "metadata": {},
   "source": [
    "根据此前所介绍的梯度下降的距离衰减理论，由于局部最小值点梯度也是零，因此如果参数点陷入局部最小值，则不可能跨过局部最小值抵达全域最小值点。假设$f(x)=x\\cdot cos(\\pi x)$就是此时的损失函数，并且此时存在唯一的参数x，则梯度下降迭代计算有如下过程。"
   ]
  },
  {
   "cell_type": "markdown",
   "metadata": {},
   "source": [
    "> 注，此处我们在未知数据、模型和评估指标的情况下，直接给出了损失函数。"
   ]
  },
  {
   "cell_type": "markdown",
   "metadata": {},
   "source": [
    "首先是由损失函数到梯度计算表达式的过程，由于损失函数只有一个参数，所以梯度表达式为$$f'(x) = (x\\cdot cos(\\pi x))' = cos(\\pi x) + x\\cdot (-sin(\\pi x)) \\cdot \\pi$$"
   ]
  },
  {
   "cell_type": "markdown",
   "metadata": {},
   "source": [
    "我们可以定义该函数的函数表达式函数及导函数函数表达式。"
   ]
  },
  {
   "cell_type": "code",
   "execution_count": 36,
   "metadata": {},
   "outputs": [],
   "source": [
    "def f_1(x):\n",
    "    return (x*np.cos(np.pi*x))"
   ]
  },
  {
   "cell_type": "code",
   "execution_count": 37,
   "metadata": {},
   "outputs": [
    {
     "data": {
      "text/plain": [
       "1.0"
      ]
     },
     "execution_count": 37,
     "metadata": {},
     "output_type": "execute_result"
    }
   ],
   "source": [
    "f_1(-1)"
   ]
  },
  {
   "cell_type": "code",
   "execution_count": 38,
   "metadata": {},
   "outputs": [],
   "source": [
    "def f_gd_1(x):\n",
    "    return (np.cos(np.pi*x)-x*np.pi*(np.sin(np.pi*x)))"
   ]
  },
  {
   "cell_type": "code",
   "execution_count": 39,
   "metadata": {},
   "outputs": [
    {
     "data": {
      "text/plain": [
       "-1.0000000000000004"
      ]
     },
     "execution_count": 39,
     "metadata": {},
     "output_type": "execute_result"
    }
   ],
   "source": [
    "f_gd_1(-1)"
   ]
  },
  {
   "cell_type": "markdown",
   "metadata": {},
   "source": [
    "以及相应的梯度更新函数"
   ]
  },
  {
   "cell_type": "code",
   "execution_count": 40,
   "metadata": {},
   "outputs": [],
   "source": [
    "def gd_1(lr = 0.02, itera_times = 20, w = -1):\n",
    "    \"\"\"\n",
    "    梯度下降计算函数\n",
    "    :param lr: 学习率\n",
    "    :param itera_times：迭代次数\n",
    "    :param w：参数初始取值\n",
    "    :return results：每一轮迭代的参数计算结果列表\n",
    "    \"\"\"                              \n",
    "    results = [w]\n",
    "    for i in range(itera_times):\n",
    "        w -= lr * f_gd_1(w)              # 梯度计算公式\n",
    "        results.append(w)\n",
    "    return results"
   ]
  },
  {
   "cell_type": "markdown",
   "metadata": {},
   "source": [
    "当我们在以0.02作为学习率，参数初始值为-1，迭代5000轮时参数每一轮迭代后参数的计算结果如下："
   ]
  },
  {
   "cell_type": "code",
   "execution_count": 43,
   "metadata": {},
   "outputs": [
    {
     "data": {
      "text/plain": [
       "-0.2738526868008511"
      ]
     },
     "execution_count": 43,
     "metadata": {},
     "output_type": "execute_result"
    }
   ],
   "source": [
    "res = gd_1(itera_times = 5000)\n",
    "res[-1]"
   ]
  },
  {
   "cell_type": "markdown",
   "metadata": {},
   "source": [
    "&emsp;&emsp;我们发现，参数最终在停留在-0.27附近。当然，对于上述一维梯度下降，我们也可以绘制对应参数变化的轨迹图来进行观察。"
   ]
  },
  {
   "cell_type": "code",
   "execution_count": 41,
   "metadata": {},
   "outputs": [],
   "source": [
    "def show_trace_1(res):\n",
    "    \"\"\"\n",
    "    梯度下降轨迹绘制函数\n",
    "    \"\"\"\n",
    "    f_line = np.arange(-1, 2, 0.01)\n",
    "    plt.plot(f_line, [f_1(x) for x in f_line])\n",
    "    plt.plot(res, [f_1(x) for x in res], '-o')\n",
    "    plt.xlabel('x')\n",
    "    plt.ylabel('Loss(x)')"
   ]
  },
  {
   "cell_type": "code",
   "execution_count": 42,
   "metadata": {},
   "outputs": [
    {
     "data": {
      "image/png": "[encoded data removed]",
      "text/plain": [
       "<Figure size 432x288 with 1 Axes>"
      ]
     },
     "metadata": {
      "needs_background": "light"
     },
     "output_type": "display_data"
    }
   ],
   "source": [
    "show_trace_1(res)"
   ]
  },
  {
   "cell_type": "markdown",
   "metadata": {},
   "source": [
    "&emsp;&emsp;我们发现，参数最终停留在局部最小值附近，并且无法跨越该局部最小值点。而根据此前所介绍的梯度下降移动距离衰减理论，最终迭代5000轮之后该点梯度也应该是一个趋于0的值。当然，这也符合局部最小值的特点，导数为0。"
   ]
  },
  {
   "cell_type": "code",
   "execution_count": 68,
   "metadata": {},
   "outputs": [
    {
     "data": {
      "text/plain": [
       "-1.2212453270876722e-15"
      ]
     },
     "execution_count": 68,
     "metadata": {},
     "output_type": "execute_result"
    }
   ],
   "source": [
    "f_gd_1(res[-1])"
   ]
  },
  {
   "cell_type": "markdown",
   "metadata": {},
   "source": [
    "&emsp;&emsp;当然，对于梯度下降的局部最小值陷阱，根本原因还是在于梯度下降过程中参数移动的距离和梯度直接挂钩，而梯度下降的该特点不仅导致了局部最小值陷阱，还有另外一类更加常见的陷阱——鞍点陷阱。"
   ]
  },
  {
   "cell_type": "markdown",
   "metadata": {},
   "source": [
    "#### 2.2 鞍点（saddle point）陷阱"
   ]
  },
  {
   "cell_type": "markdown",
   "metadata": {},
   "source": [
    "&emsp;&emsp;首先让我们来看下什么是鞍点。鞍点有许多严谨的学术定义，简单来理解鞍点是那些不是极值点但梯度为0的点。所谓极值，指的是那些连续函数上导数为0、并且所有两边单调性相反的点，极值包括局部最小值、最小值点、局部最大值和最大值点四类。而鞍点和极值点的区别在于导数为0单左右两边单调性相同，例如："
   ]
  },
  {
   "cell_type": "markdown",
   "metadata": {},
   "source": [
    "$$f(x)=x^3$$"
   ]
  },
  {
   "cell_type": "markdown",
   "metadata": {},
   "source": [
    "&emsp;&emsp;我们通过绘制该函数的函数图像来观察鞍点。"
   ]
  },
  {
   "cell_type": "code",
   "execution_count": 47,
   "metadata": {},
   "outputs": [],
   "source": [
    "x = np.arange(-2, 2, 0.1)\n",
    "y = np.power(x, 3)"
   ]
  },
  {
   "cell_type": "code",
   "execution_count": 49,
   "metadata": {},
   "outputs": [
    {
     "data": {
      "text/plain": [
       "Text(0, 0.5, 'x**3')"
      ]
     },
     "execution_count": 49,
     "metadata": {},
     "output_type": "execute_result"
    },
    {
     "data": {
      "image/png": "[encoded data removed]",
      "text/plain": [
       "<Figure size 432x288 with 1 Axes>"
      ]
     },
     "metadata": {
      "needs_background": "light"
     },
     "output_type": "display_data"
    }
   ],
   "source": [
    "fig = plt.plot(x, y)[0]\n",
    "fig.axes.annotate('saddle point', xytext=(-0.52, -5), \n",
    "                  arrowprops=dict(arrowstyle='->'), xy=(0, -0.2))\n",
    "plt.xlabel('x')\n",
    "plt.ylabel('x**3')"
   ]
  },
  {
   "cell_type": "markdown",
   "metadata": {},
   "source": [
    "&emsp;&emsp;进一步的，我们来看下鞍点是如何影响梯度下降过程的。首先是由损失函数到梯度计算表达式的过程，由于损失函数只有一个参数，所以梯度表达式为："
   ]
  },
  {
   "cell_type": "markdown",
   "metadata": {},
   "source": [
    "$$f'(x) = 3x^2$$"
   ]
  },
  {
   "cell_type": "markdown",
   "metadata": {},
   "source": [
    "我们可以定义该函数、导函数的函数及轨迹绘制函数"
   ]
  },
  {
   "cell_type": "code",
   "execution_count": 53,
   "metadata": {},
   "outputs": [],
   "source": [
    "# x**3函数\n",
    "def f_2(x):\n",
    "    return np.power(x, 3)"
   ]
  },
  {
   "cell_type": "code",
   "execution_count": 52,
   "metadata": {},
   "outputs": [
    {
     "data": {
      "text/plain": [
       "-1"
      ]
     },
     "execution_count": 52,
     "metadata": {},
     "output_type": "execute_result"
    }
   ],
   "source": [
    "f_2(-1)"
   ]
  },
  {
   "cell_type": "code",
   "execution_count": 54,
   "metadata": {},
   "outputs": [],
   "source": [
    "# x**3导函数\n",
    "def f_gd_2(x):\n",
    "    return (3*np.power(x, 2))"
   ]
  },
  {
   "cell_type": "code",
   "execution_count": 55,
   "metadata": {},
   "outputs": [
    {
     "data": {
      "text/plain": [
       "3"
      ]
     },
     "execution_count": 55,
     "metadata": {},
     "output_type": "execute_result"
    }
   ],
   "source": [
    "f_gd_2(-1)"
   ]
  },
  {
   "cell_type": "code",
   "execution_count": 56,
   "metadata": {},
   "outputs": [],
   "source": [
    "# 梯度更新函数\n",
    "def gd_2(lr = 0.05, itera_times = 200, w = 1):\n",
    "    \"\"\"\n",
    "    梯度下降计算函数\n",
    "    :param lr: 学习率\n",
    "    :param itera_times：迭代次数\n",
    "    :param w：参数初始取值\n",
    "    :return results：每一轮迭代的参数计算结果列表\n",
    "    \"\"\"                              \n",
    "    results = [w]\n",
    "    for i in range(itera_times):\n",
    "        w -= lr * f_gd_2(w)              # 梯度计算公式\n",
    "        results.append(w)\n",
    "    return results"
   ]
  },
  {
   "cell_type": "markdown",
   "metadata": {},
   "source": [
    "当我们在以0.05作为学习率，参数初始值为1，迭代5000轮时参数每一轮迭代后参数的计算结果如下："
   ]
  },
  {
   "cell_type": "code",
   "execution_count": 62,
   "metadata": {},
   "outputs": [
    {
     "data": {
      "text/plain": [
       "0.0013297766246039373"
      ]
     },
     "execution_count": 62,
     "metadata": {},
     "output_type": "execute_result"
    }
   ],
   "source": [
    "res = gd_2(itera_times=5000)\n",
    "res[-1]"
   ]
  },
  {
   "cell_type": "code",
   "execution_count": 63,
   "metadata": {},
   "outputs": [],
   "source": [
    "def show_trace_2(res):\n",
    "    \"\"\"\n",
    "    梯度下降轨迹绘制函数\n",
    "    \"\"\"\n",
    "    f_line = np.arange(-1, 2, 0.01)\n",
    "    plt.plot(f_line, [f_2(x) for x in f_line])\n",
    "    plt.plot(res, [f_2(x) for x in res], '-o')\n",
    "    plt.xlabel('x')\n",
    "    plt.ylabel('Loss(x)')"
   ]
  },
  {
   "cell_type": "code",
   "execution_count": 64,
   "metadata": {},
   "outputs": [
    {
     "data": {
      "image/png": "[encoded data removed]",
      "text/plain": [
       "<Figure size 432x288 with 1 Axes>"
      ]
     },
     "metadata": {
      "needs_background": "light"
     },
     "output_type": "display_data"
    }
   ],
   "source": [
    "show_trace_2(res)"
   ]
  },
  {
   "cell_type": "markdown",
   "metadata": {},
   "source": [
    "同样，梯度下降无法跨越鞍点抵达更小值的点，并且我们判断5000次迭代后参数点的梯度已经非常小了："
   ]
  },
  {
   "cell_type": "code",
   "execution_count": 66,
   "metadata": {},
   "outputs": [
    {
     "data": {
      "text/plain": [
       "5.304917614029122e-06"
      ]
     },
     "execution_count": 66,
     "metadata": {},
     "output_type": "execute_result"
    }
   ],
   "source": [
    "f_gd_2(res[-1])"
   ]
  },
  {
   "cell_type": "markdown",
   "metadata": {},
   "source": [
    "我们可以绘制一个包含了鞍点的二维图像进行观察："
   ]
  },
  {
   "cell_type": "code",
   "execution_count": 87,
   "metadata": {},
   "outputs": [
    {
     "data": {
      "image/png": "[encoded data removed]",
      "text/plain": [
       "<Figure size 432x288 with 1 Axes>"
      ]
     },
     "metadata": {
      "needs_background": "light"
     },
     "output_type": "display_data"
    }
   ],
   "source": [
    "x, y = np.mgrid[-1:1:31j,-1:1:31j]\n",
    "z = x**2- y**2\n",
    "ax = plt.axes(projection='3d')\n",
    "ax.plot_wireframe(x, y, z,**{'rstride':2,'cstride':2})\n",
    "ax.plot([0],[0],[0],'rx')\n",
    "ticks =[-1,0,1]\n",
    "plt.xticks(ticks)\n",
    "plt.yticks(ticks)\n",
    "ax.set_zticks(ticks)\n",
    "plt.xlabel('x')\n",
    "plt.ylabel('y')"
   ]
  },
  {
   "cell_type": "markdown",
   "metadata": {},
   "source": [
    "> 指的注意的是，在实际情况中，鞍点出现的频率高于局部最小值点。"
   ]
  },
  {
   "cell_type": "markdown",
   "metadata": {},
   "source": [
    "### 3.梯度下降算法本质与改善方法"
   ]
  },
  {
   "cell_type": "markdown",
   "metadata": {},
   "source": [
    "&emsp;&emsp;根据局部最小值和鞍点的讨论，我们不难发现梯度下降的本质作用其实是让参数点移动到梯度为0的点，当损失函数是严格意义的凸函数时，梯度为0的点就是全域最小值点，但如果损失函数不是凸函数，那么梯度为0的点就有可能是局部最小值点或者鞍点。此时受到局部最小值点或者鞍点梯度为0的影响，梯度下降无法从该点移出。尽管大多数线性模型的损失函数都是凸函数，但很多复杂机器学习模型所构建的损失函数都不一定是严格凸函数，要避免局部最小值点或者鞍点陷阱，我们就必须在梯度下降算法基础上进行改进。有一种最基础也是最通用的改进办法，就是每次在构建损失函数的时候代入一小部分数据，从而让参数有机会跳出陷阱，这就是所谓的随机梯度下降和小批量梯度下降。关于这两种改进办法的计算流程和实际效果，我们将在下一节课详细讨论。"
   ]
  }
 ],
 "metadata": {
  "kernelspec": {
   "display_name": "Python 3",
   "language": "python",
   "name": "python3"
  },
  "language_info": {
   "codemirror_mode": {
    "name": "ipython",
    "version": 3
   },
   "file_extension": ".py",
   "mimetype": "text/x-python",
   "name": "python",
   "nbconvert_exporter": "python",
   "pygments_lexer": "ipython3",
   "version": "3.8.5"
  }
 },
 "nbformat": 4,
 "nbformat_minor": 4
}
